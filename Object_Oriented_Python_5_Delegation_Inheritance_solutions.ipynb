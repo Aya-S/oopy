{
 "cells": [
  {
   "cell_type": "markdown",
   "metadata": {},
   "source": [
    "# Part 5 - Inheritance - Exercises"
   ]
  },
  {
   "cell_type": "markdown",
   "metadata": {},
   "source": [
    "## Exercise 1\n",
    "\n",
    "Modify the `SecurityLift` class adding a custom `__init__` method that creates the attribute `self.locked`."
   ]
  },
  {
   "cell_type": "code",
   "execution_count": null,
   "metadata": {},
   "outputs": [],
   "source": [
    "class Lift:\n",
    "    max_weight = 150\n",
    "    \n",
    "    def __init__(self, f, s):\n",
    "        self.floor = f\n",
    "        self.status = s\n",
    "    \n",
    "    def open(self):\n",
    "        self.status = 'open'\n",
    "\n",
    "    def close(self):\n",
    "        self.status = 'closed'"
   ]
  },
  {
   "cell_type": "markdown",
   "metadata": {},
   "source": [
    "This adds the attribute preserving the interface"
   ]
  },
  {
   "cell_type": "code",
   "execution_count": null,
   "metadata": {},
   "outputs": [],
   "source": [
    "class SecurityLift(Lift):\n",
    "    def __init__(self, f, s):\n",
    "        self.floor = f\n",
    "        self.status = s\n",
    "        self.locked = False"
   ]
  },
  {
   "cell_type": "markdown",
   "metadata": {},
   "source": [
    "This does the same but reuses the parent's `__init__` method"
   ]
  },
  {
   "cell_type": "code",
   "execution_count": null,
   "metadata": {},
   "outputs": [],
   "source": [
    "class SecurityLift(Lift):\n",
    "    def __init__(self, f, s):\n",
    "        super().__init__(f, s)\n",
    "        self.locked = False"
   ]
  },
  {
   "cell_type": "markdown",
   "metadata": {},
   "source": [
    "If we want to pass a value we need to change the interface"
   ]
  },
  {
   "cell_type": "code",
   "execution_count": null,
   "metadata": {},
   "outputs": [],
   "source": [
    "class SecurityLift(Lift):\n",
    "    def __init__(self, f, s, l):\n",
    "        super().__init__(f, s)\n",
    "        self.locked = l"
   ]
  },
  {
   "cell_type": "markdown",
   "metadata": {},
   "source": [
    "Well, not really true, we can leverage default values"
   ]
  },
  {
   "cell_type": "code",
   "execution_count": null,
   "metadata": {},
   "outputs": [],
   "source": [
    "class SecurityLift(Lift):\n",
    "    def __init__(self, f, s, l=False):\n",
    "        super().__init__(f, s)\n",
    "        self.locked = l"
   ]
  },
  {
   "cell_type": "markdown",
   "metadata": {},
   "source": [
    "## Exercise 2\n",
    "\n",
    "Change the `SecurityLift` method `open` to work with `self.locked` (i.e. you can open it only if it is not locked)"
   ]
  },
  {
   "cell_type": "code",
   "execution_count": null,
   "metadata": {},
   "outputs": [],
   "source": [
    "class SecurityLift(Lift):\n",
    "    def __init__(self, f, s, l=False):\n",
    "        super().__init__(f, s)\n",
    "        self.locked = l\n",
    "        \n",
    "    def open(self):\n",
    "        if not self.locked:\n",
    "            self.status = 'open'"
   ]
  },
  {
   "cell_type": "markdown",
   "metadata": {},
   "source": [
    "We should avoid code repetition"
   ]
  },
  {
   "cell_type": "code",
   "execution_count": null,
   "metadata": {},
   "outputs": [],
   "source": [
    "class SecurityLift(Lift):\n",
    "    def __init__(self, f, s, l=False):\n",
    "        super().__init__(f, s)\n",
    "        self.locked = l\n",
    "        \n",
    "    def open(self):\n",
    "        if not self.locked:\n",
    "            super().open()"
   ]
  },
  {
   "cell_type": "markdown",
   "metadata": {},
   "source": [
    "## Exercise 3\n",
    "\n",
    "Change the `SecurityLift` method `close` to accept an optional parameter `lock` that sets the locked attribute."
   ]
  },
  {
   "cell_type": "code",
   "execution_count": null,
   "metadata": {},
   "outputs": [],
   "source": [
    "class SecurityLift(Lift):\n",
    "    def __init__(self, f, s, l=False):\n",
    "        super().__init__(f, s)\n",
    "        self.locked = l\n",
    "        \n",
    "    def open(self):\n",
    "        if not self.locked:\n",
    "            super().open()\n",
    "            \n",
    "    def close(self, lock=False):\n",
    "        super().close()\n",
    "        self.locked = lock"
   ]
  }
 ],
 "metadata": {
  "kernelspec": {
   "display_name": "Python 3",
   "language": "python",
   "name": "python3"
  },
  "language_info": {
   "codemirror_mode": {
    "name": "ipython",
    "version": 3
   },
   "file_extension": ".py",
   "mimetype": "text/x-python",
   "name": "python",
   "nbconvert_exporter": "python",
   "pygments_lexer": "ipython3",
   "version": "3.7.5"
  }
 },
 "nbformat": 4,
 "nbformat_minor": 4
}
