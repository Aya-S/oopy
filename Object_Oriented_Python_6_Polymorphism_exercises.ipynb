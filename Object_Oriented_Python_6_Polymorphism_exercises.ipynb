{
 "cells": [
  {
   "cell_type": "markdown",
   "metadata": {},
   "source": [
    "# Part 6 - Polymorphism - Exercises"
   ]
  },
  {
   "cell_type": "markdown",
   "metadata": {},
   "source": [
    "## Exercise 1\n",
    "\n",
    "Create a class `CustomInteger` that contains an integer as `self.value` and with a `__len__` method that returns the number of digits of the integer. Does `len` work for instances of this class? (hint: convert the integer into a string with `str` and count the characters)"
   ]
  },
  {
   "cell_type": "markdown",
   "metadata": {},
   "source": [
    "## Exercise 2\n",
    "\n",
    "Add a `__contains__` method to `CustomInteger` that returns `True` if `self.value` contains the given digit. Does `in` work for this type?"
   ]
  },
  {
   "cell_type": "markdown",
   "metadata": {},
   "source": [
    "## Exercise 3\n",
    "\n",
    "Try to use `str` on an instance of `CustomInteger` (e.g. `str(c)`). What happens? How can you return a better string representation, for example showing the actual value? (hint: try to define the method `__str__`)"
   ]
  },
  {
   "cell_type": "markdown",
   "metadata": {},
   "source": [
    "## Exercise 4\n",
    "\n",
    "Define the class `ShapesList`\n",
    "\n",
    "``` python\n",
    "class ShapesList:\n",
    "    def __init__(self):\n",
    "        self.shapes = []\n",
    "\n",
    "    def add(self, s):\n",
    "        self.shapes.append(s)\n",
    "    \n",
    "    def areas(self):\n",
    "        return [shape.area() for shape in self.shapes]\n",
    "```\n",
    "\n",
    "Now define two classes `Triangle` and `Rectangle` that represent a shape (don't use inheritance). They both should accept `base` and `height` as initialisation parameter, and they both have to provide the `area` method."
   ]
  },
  {
   "cell_type": "markdown",
   "metadata": {},
   "source": [
    "## Exercise 5\n",
    "\n",
    "Instantiate `ShapesList`, `Triangle` and `Rectangle`. Add the shapes to the `ShapesList` instance through the `add` method and run the `areas` method. Explain why it works."
   ]
  },
  {
   "cell_type": "markdown",
   "metadata": {},
   "source": [
    "## Exercise 6\n",
    "\n",
    "Specialise either `Triangle` or `Rectangle` using inheritance and add the colour attribute to the `__init__` method. Instantiate the class and add it to the `ShapesList` instance. Run the `areas` method. Does it still work? Why?"
   ]
  },
  {
   "cell_type": "markdown",
   "metadata": {},
   "source": [
    "## Exercise 7\n",
    "\n",
    "Define a class `Circle` (that requires one single initialisation parameter). Instantiate it and add it to the `ShapesList` instance and run the `areas` method. Does it still work?"
   ]
  },
  {
   "cell_type": "markdown",
   "metadata": {},
   "source": [
    "## Exercise 8\n",
    "\n",
    "Define the class `AdvancedShapesList`\n",
    "\n",
    "``` python\n",
    "class AdvancedShapesList:\n",
    "    def __init__(self):\n",
    "        self.shapes = []\n",
    "\n",
    "    def add(self, cls, b, h):\n",
    "        shape = cls(b, h)\n",
    "        self.shapes.append(shape)\n",
    "    \n",
    "    def areas(self):\n",
    "        return [shape.area() for shape in self.shapes]\n",
    "```\n",
    "\n",
    "Please note that this is a container of classes, not instances. The shapes are instantiated by the `add` method`.\n",
    "\n",
    "Instantiate `AdvancedShapesList` and add the `Triangle` and the `Rectangle` **classes**. You need to add them passing the class, the parameter `b` and the parameter `h`. Explain what happens and why it works."
   ]
  },
  {
   "cell_type": "markdown",
   "metadata": {},
   "source": [
    "## Exercise 9\n",
    "\n",
    "Add the `Circle` class to the `AdvancedShapesList` instance. What happens? Why?"
   ]
  }
 ],
 "metadata": {
  "kernelspec": {
   "display_name": "Python 3",
   "language": "python",
   "name": "python3"
  },
  "language_info": {
   "codemirror_mode": {
    "name": "ipython",
    "version": 3
   },
   "file_extension": ".py",
   "mimetype": "text/x-python",
   "name": "python",
   "nbconvert_exporter": "python",
   "pygments_lexer": "ipython3",
   "version": "3.7.5"
  }
 },
 "nbformat": 4,
 "nbformat_minor": 4
}
